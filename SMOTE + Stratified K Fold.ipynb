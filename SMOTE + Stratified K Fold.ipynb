{
 "cells": [
  {
   "cell_type": "code",
   "execution_count": 12,
   "metadata": {},
   "outputs": [],
   "source": [
    "import numpy as np, pandas as pd, matplotlib.pyplot as plt\n",
    "import seaborn as sns\n",
    "from sklearn.metrics import precision_recall_fscore_support"
   ]
  },
  {
   "cell_type": "code",
   "execution_count": 13,
   "metadata": {},
   "outputs": [
    {
     "data": {
      "text/html": [
       "<div>\n",
       "<style scoped>\n",
       "    .dataframe tbody tr th:only-of-type {\n",
       "        vertical-align: middle;\n",
       "    }\n",
       "\n",
       "    .dataframe tbody tr th {\n",
       "        vertical-align: top;\n",
       "    }\n",
       "\n",
       "    .dataframe thead th {\n",
       "        text-align: right;\n",
       "    }\n",
       "</style>\n",
       "<table border=\"1\" class=\"dataframe\">\n",
       "  <thead>\n",
       "    <tr style=\"text-align: right;\">\n",
       "      <th></th>\n",
       "      <th>year</th>\n",
       "      <th>emp_length_int</th>\n",
       "      <th>home_ownership_cat</th>\n",
       "      <th>income_cat</th>\n",
       "      <th>loan_amount</th>\n",
       "      <th>term_cat</th>\n",
       "      <th>purpose_cat</th>\n",
       "      <th>interest_payment_cat</th>\n",
       "      <th>loan_condition</th>\n",
       "      <th>interest_rate</th>\n",
       "      <th>grade_cat</th>\n",
       "      <th>total_pymnt</th>\n",
       "      <th>total_rec_prncp</th>\n",
       "      <th>installment</th>\n",
       "      <th>region</th>\n",
       "    </tr>\n",
       "  </thead>\n",
       "  <tbody>\n",
       "    <tr>\n",
       "      <th>0</th>\n",
       "      <td>4</td>\n",
       "      <td>2</td>\n",
       "      <td>1</td>\n",
       "      <td>1</td>\n",
       "      <td>0</td>\n",
       "      <td>1</td>\n",
       "      <td>1</td>\n",
       "      <td>1</td>\n",
       "      <td>1</td>\n",
       "      <td>2</td>\n",
       "      <td>2</td>\n",
       "      <td>1</td>\n",
       "      <td>1</td>\n",
       "      <td>0</td>\n",
       "      <td>4</td>\n",
       "    </tr>\n",
       "    <tr>\n",
       "      <th>1</th>\n",
       "      <td>4</td>\n",
       "      <td>0</td>\n",
       "      <td>1</td>\n",
       "      <td>1</td>\n",
       "      <td>0</td>\n",
       "      <td>2</td>\n",
       "      <td>2</td>\n",
       "      <td>2</td>\n",
       "      <td>0</td>\n",
       "      <td>3</td>\n",
       "      <td>3</td>\n",
       "      <td>0</td>\n",
       "      <td>0</td>\n",
       "      <td>0</td>\n",
       "      <td>0</td>\n",
       "    </tr>\n",
       "    <tr>\n",
       "      <th>2</th>\n",
       "      <td>4</td>\n",
       "      <td>2</td>\n",
       "      <td>1</td>\n",
       "      <td>1</td>\n",
       "      <td>0</td>\n",
       "      <td>1</td>\n",
       "      <td>3</td>\n",
       "      <td>2</td>\n",
       "      <td>1</td>\n",
       "      <td>3</td>\n",
       "      <td>3</td>\n",
       "      <td>0</td>\n",
       "      <td>0</td>\n",
       "      <td>0</td>\n",
       "      <td>3</td>\n",
       "    </tr>\n",
       "    <tr>\n",
       "      <th>3</th>\n",
       "      <td>4</td>\n",
       "      <td>2</td>\n",
       "      <td>1</td>\n",
       "      <td>1</td>\n",
       "      <td>1</td>\n",
       "      <td>1</td>\n",
       "      <td>4</td>\n",
       "      <td>2</td>\n",
       "      <td>1</td>\n",
       "      <td>2</td>\n",
       "      <td>3</td>\n",
       "      <td>2</td>\n",
       "      <td>2</td>\n",
       "      <td>1</td>\n",
       "      <td>1</td>\n",
       "    </tr>\n",
       "    <tr>\n",
       "      <th>4</th>\n",
       "      <td>4</td>\n",
       "      <td>0</td>\n",
       "      <td>1</td>\n",
       "      <td>1</td>\n",
       "      <td>0</td>\n",
       "      <td>2</td>\n",
       "      <td>4</td>\n",
       "      <td>1</td>\n",
       "      <td>1</td>\n",
       "      <td>2</td>\n",
       "      <td>2</td>\n",
       "      <td>0</td>\n",
       "      <td>0</td>\n",
       "      <td>0</td>\n",
       "      <td>1</td>\n",
       "    </tr>\n",
       "  </tbody>\n",
       "</table>\n",
       "</div>"
      ],
      "text/plain": [
       "   year  emp_length_int  home_ownership_cat  income_cat  loan_amount  \\\n",
       "0     4               2                   1           1            0   \n",
       "1     4               0                   1           1            0   \n",
       "2     4               2                   1           1            0   \n",
       "3     4               2                   1           1            1   \n",
       "4     4               0                   1           1            0   \n",
       "\n",
       "   term_cat  purpose_cat  interest_payment_cat  loan_condition  interest_rate  \\\n",
       "0         1            1                     1               1              2   \n",
       "1         2            2                     2               0              3   \n",
       "2         1            3                     2               1              3   \n",
       "3         1            4                     2               1              2   \n",
       "4         2            4                     1               1              2   \n",
       "\n",
       "   grade_cat  total_pymnt  total_rec_prncp  installment  region  \n",
       "0          2            1                1            0       4  \n",
       "1          3            0                0            0       0  \n",
       "2          3            0                0            0       3  \n",
       "3          3            2                2            1       1  \n",
       "4          2            0                0            0       1  "
      ]
     },
     "execution_count": 13,
     "metadata": {},
     "output_type": "execute_result"
    }
   ],
   "source": [
    "data=pd.read_csv('C:/Users/sai kiran/Desktop/export_dataframe.csv')\n",
    "data.head()"
   ]
  },
  {
   "cell_type": "code",
   "execution_count": 14,
   "metadata": {},
   "outputs": [
    {
     "name": "stdout",
     "output_type": "stream",
     "text": [
      "(868946, 14) (868946, 1)\n"
     ]
    }
   ],
   "source": [
    "# Before SMOTE\n",
    "from imblearn.over_sampling import SMOTE \n",
    "sm = SMOTE(random_state = 2)\n",
    "y=data['loan_condition'].values\n",
    "data.drop('loan_condition',axis=1,inplace=True)\n",
    "X=data[:].values\n",
    "y=y.reshape(-1, 1)\n",
    "print(X.shape,y.shape)"
   ]
  },
  {
   "cell_type": "code",
   "execution_count": 15,
   "metadata": {},
   "outputs": [
    {
     "name": "stdout",
     "output_type": "stream",
     "text": [
      "(1604988, 14) (1604988,)\n"
     ]
    }
   ],
   "source": [
    "# After Smote\n",
    "X,y=sm.fit_sample(X, y.ravel())\n",
    "print(X.shape,y.shape)"
   ]
  },
  {
   "cell_type": "code",
   "execution_count": 35,
   "metadata": {},
   "outputs": [
    {
     "name": "stdout",
     "output_type": "stream",
     "text": [
      "[[ 5.83115829 -2.19215882  0.48358609 ...  2.95478024  0.02758522\n",
      "  -1.10054719]\n",
      " [ 6.12918522 -0.93437828 -0.65467543 ... -0.63128138  0.03824622\n",
      "  -0.70712518]\n",
      " [ 7.19910753 -0.48692134 -0.62186293 ...  2.19170933  0.32986355\n",
      "  -0.76235483]\n",
      " ...\n",
      " [10.59901376  0.5523302   0.42646834 ...  0.12766757  0.23409406\n",
      "  -0.10332271]\n",
      " [11.35065848  0.43346422 -1.36363657 ...  0.53089533  1.09303435\n",
      "  -0.46776865]\n",
      " [ 8.05101229 -3.44623916 -0.38316947 ...  2.5948228   0.55149963\n",
      "  -0.97623493]] [1 0 1 ... 0 0 0]\n",
      "(1604988, 7) (1604988,)\n"
     ]
    }
   ],
   "source": [
    "from sklearn.decomposition import TruncatedSVD\n",
    "from sklearn.metrics import accuracy_score,confusion_matrix\n",
    "from sklearn.model_selection import StratifiedKFold\n",
    "kf5 = StratifiedKFold(n_splits=5)\n",
    "kf2 = StratifiedKFold(n_splits=2)\n",
    "kf3 = StratifiedKFold(n_splits=3)\n",
    "kf10 =StratifiedKFold(n_splits=10)\n",
    "from sklearn.linear_model import LogisticRegression,Perceptron\n",
    "svd = TruncatedSVD(n_components=7, n_iter=7, random_state=42)\n",
    "x=svd.fit_transform(X)\n",
    "print(x,y)\n",
    "print(x.shape,y.shape)"
   ]
  },
  {
   "cell_type": "code",
   "execution_count": 36,
   "metadata": {},
   "outputs": [
    {
     "data": {
      "text/plain": [
       "10"
      ]
     },
     "execution_count": 36,
     "metadata": {},
     "output_type": "execute_result"
    }
   ],
   "source": [
    "kf10.get_n_splits(X)"
   ]
  },
  {
   "cell_type": "markdown",
   "metadata": {},
   "source": [
    "### 10 fold"
   ]
  },
  {
   "cell_type": "code",
   "execution_count": 38,
   "metadata": {},
   "outputs": [
    {
     "name": "stdout",
     "output_type": "stream",
     "text": [
      "TRAIN: [  92587   92588   92589 ... 1604985 1604986 1604987] TEST: [     0      1      2 ... 882740 882741 882742]\n",
      "(1444489, 7) (160499, 7)\n",
      "TRAIN: [      0       1       2 ... 1604985 1604986 1604987] TEST: [ 92587  92588  92589 ... 962989 962990 962991]\n",
      "(1444489, 7) (160499, 7)\n",
      "TRAIN: [      0       1       2 ... 1604985 1604986 1604987] TEST: [ 186209  186210  186211 ... 1043238 1043239 1043240]\n",
      "(1444489, 7) (160499, 7)\n",
      "TRAIN: [      0       1       2 ... 1604985 1604986 1604987] TEST: [ 276769  276770  276771 ... 1123487 1123488 1123489]\n",
      "(1444489, 7) (160499, 7)\n",
      "TRAIN: [      0       1       2 ... 1604985 1604986 1604987] TEST: [ 365083  365085  365087 ... 1203737 1203738 1203739]\n",
      "(1444489, 7) (160499, 7)\n",
      "TRAIN: [      0       1       2 ... 1604985 1604986 1604987] TEST: [ 454956  454957  454958 ... 1283987 1283988 1283989]\n",
      "(1444489, 7) (160499, 7)\n",
      "TRAIN: [      0       1       2 ... 1604985 1604986 1604987] TEST: [ 536703  536704  536705 ... 1364237 1364238 1364239]\n",
      "(1444489, 7) (160499, 7)\n",
      "TRAIN: [      0       1       2 ... 1604985 1604986 1604987] TEST: [ 617859  617860  617861 ... 1444487 1444488 1444489]\n",
      "(1444489, 7) (160499, 7)\n",
      "TRAIN: [      0       1       2 ... 1604985 1604986 1604987] TEST: [ 700150  700151  700153 ... 1524736 1524737 1524738]\n",
      "(1444490, 7) (160498, 7)\n",
      "TRAIN: [      0       1       2 ... 1524736 1524737 1524738] TEST: [ 783774  783775  783776 ... 1604985 1604986 1604987]\n",
      "(1444490, 7) (160498, 7)\n",
      "0.7254154797023572\n",
      "0.7295533179021929\n",
      "0.7254156828693122\n",
      "0.7225913454878827\n"
     ]
    }
   ],
   "source": [
    "from sklearn.ensemble import RandomForestClassifier\n",
    "accuracy=0\n",
    "precision=0\n",
    "recall=0\n",
    "f_score=0\n",
    "for train_index, test_index in kf10.split(x,y):\n",
    "    print(\"TRAIN:\", train_index, \"TEST:\", test_index)\n",
    "    X_train, X_test = x[train_index], x[test_index]\n",
    "    y_train, y_test = y[train_index], y[test_index]\n",
    "    print(X_train.shape, X_test.shape)\n",
    "    logistic=LogisticRegression()\n",
    "    logistic.fit(X_train,y_train)\n",
    "    pred=logistic.predict(X_test)\n",
    "    acc=accuracy_score(pred,y_test)\n",
    "    accuracy=accuracy+acc\n",
    "    confusion_matrix(pred,y_test)\n",
    "    a,b,c,d=precision_recall_fscore_support(y_test, pred, average='macro')\n",
    "    precision=precision+a\n",
    "    recall=recall+b\n",
    "    f_score=f_score+c\n",
    "print(accuracy/10)\n",
    "print(precision/10)\n",
    "print(recall/10)\n",
    "print(f_score/10)"
   ]
  },
  {
   "cell_type": "markdown",
   "metadata": {},
   "source": [
    "### 2 fold"
   ]
  },
  {
   "cell_type": "code",
   "execution_count": 43,
   "metadata": {},
   "outputs": [
    {
     "name": "stdout",
     "output_type": "stream",
     "text": [
      "TRAIN: [ 454954  454955  454956 ... 1604985 1604986 1604987] TEST: [      0       1       2 ... 1203738 1203739 1203740]\n",
      "(802494, 7) (802494, 7)\n",
      "acc:  0.46356483662183146\n",
      "TRAIN: [      0       1       2 ... 1203738 1203739 1203740] TEST: [ 454954  454955  454956 ... 1604985 1604986 1604987]\n",
      "(802494, 7) (802494, 7)\n",
      "acc:  0.524891151834157\n",
      "0.49422799422799424\n",
      "0.47207475232235097\n",
      "0.49422799422799424\n",
      "0.42808706742404706\n"
     ]
    }
   ],
   "source": [
    "from sklearn.ensemble import RandomForestClassifier\n",
    "accuracy=0\n",
    "precision=0\n",
    "recall=0\n",
    "f_score=0\n",
    "for train_index, test_index in kf2.split(x,y):\n",
    "    print(\"TRAIN:\", train_index, \"TEST:\", test_index)\n",
    "    X_train, X_test = x[train_index], x[test_index]\n",
    "    y_train, y_test = y[train_index], y[test_index]\n",
    "    print(X_train.shape, X_test.shape)\n",
    "    logistic=LogisticRegression()\n",
    "    logistic.fit(X_train,y_train)\n",
    "    pred=logistic.predict(X_test)\n",
    "    acc=accuracy_score(pred,y_test)\n",
    "    print('acc: ',acc)\n",
    "    accuracy=accuracy+acc\n",
    "    confusion_matrix(pred,y_test)\n",
    "    a,b,c,d=precision_recall_fscore_support(y_test, pred, average='macro')\n",
    "    precision=precision+a\n",
    "    recall=recall+b\n",
    "    f_score=f_score+c\n",
    "print(accuracy/2)\n",
    "print(precision/2)\n",
    "print(recall/2)\n",
    "print(f_score/2)"
   ]
  },
  {
   "cell_type": "markdown",
   "metadata": {},
   "source": [
    "### 3 fold"
   ]
  },
  {
   "cell_type": "code",
   "execution_count": 44,
   "metadata": {},
   "outputs": [
    {
     "name": "stdout",
     "output_type": "stream",
     "text": [
      "TRAIN: [ 306003  306004  306005 ... 1604985 1604986 1604987] TEST: [      0       1       2 ... 1069989 1069990 1069991]\n",
      "(1069992, 7) (534996, 7)\n",
      "TRAIN: [      0       1       2 ... 1604985 1604986 1604987] TEST: [ 306003  306004  306005 ... 1337487 1337488 1337489]\n",
      "(1069992, 7) (534996, 7)\n",
      "TRAIN: [      0       1       2 ... 1337487 1337488 1337489] TEST: [ 590714  590715  590716 ... 1604985 1604986 1604987]\n",
      "(1069992, 7) (534996, 7)\n",
      "0.6503768252472916\n",
      "0.6500164593484521\n",
      "0.6503768252472916\n",
      "0.6310757002228394\n"
     ]
    }
   ],
   "source": [
    "from sklearn.ensemble import RandomForestClassifier\n",
    "accuracy=0\n",
    "precision=0\n",
    "recall=0\n",
    "f_score=0\n",
    "for train_index, test_index in kf3.split(x,y):\n",
    "    print(\"TRAIN:\", train_index, \"TEST:\", test_index)\n",
    "    X_train, X_test = x[train_index], x[test_index]\n",
    "    y_train, y_test = y[train_index], y[test_index]\n",
    "    print(X_train.shape, X_test.shape)\n",
    "    logistic=LogisticRegression()\n",
    "    logistic.fit(X_train,y_train)\n",
    "    pred=logistic.predict(X_test)\n",
    "    acc=accuracy_score(pred,y_test)\n",
    "    accuracy=accuracy+acc\n",
    "    confusion_matrix(pred,y_test)\n",
    "    a,b,c,d=precision_recall_fscore_support(y_test, pred, average='macro')\n",
    "    precision=precision+a\n",
    "    recall=recall+b\n",
    "    f_score=f_score+c\n",
    "print(accuracy/3)\n",
    "print(precision/3)\n",
    "print(recall/3)\n",
    "print(f_score/3)"
   ]
  },
  {
   "cell_type": "markdown",
   "metadata": {},
   "source": [
    "### 5 fold"
   ]
  },
  {
   "cell_type": "code",
   "execution_count": 45,
   "metadata": {},
   "outputs": [
    {
     "name": "stdout",
     "output_type": "stream",
     "text": [
      "TRAIN: [ 186207  186209  186210 ... 1604985 1604986 1604987] TEST: [     0      1      2 ... 962990 962991 962992]\n",
      "(1283990, 7) (320998, 7)\n",
      "TRAIN: [      0       1       2 ... 1604985 1604986 1604987] TEST: [ 186207  186209  186210 ... 1123489 1123490 1123491]\n",
      "(1283990, 7) (320998, 7)\n",
      "TRAIN: [      0       1       2 ... 1604985 1604986 1604987] TEST: [ 365080  365081  365083 ... 1283988 1283989 1283990]\n",
      "(1283990, 7) (320998, 7)\n",
      "TRAIN: [      0       1       2 ... 1604985 1604986 1604987] TEST: [ 536702  536703  536704 ... 1444486 1444487 1444488]\n",
      "(1283991, 7) (320997, 7)\n",
      "TRAIN: [      0       1       2 ... 1444486 1444487 1444488] TEST: [ 700150  700151  700153 ... 1604985 1604986 1604987]\n",
      "(1283991, 7) (320997, 7)\n",
      "0.7006893881024424\n",
      "0.7055102338293737\n",
      "0.7006894672403062\n",
      "0.6966074790452059\n"
     ]
    }
   ],
   "source": [
    "from sklearn.ensemble import RandomForestClassifier\n",
    "accuracy=0\n",
    "precision=0\n",
    "recall=0\n",
    "f_score=0\n",
    "for train_index, test_index in kf5.split(x,y):\n",
    "    print(\"TRAIN:\", train_index, \"TEST:\", test_index)\n",
    "    X_train, X_test = x[train_index], x[test_index]\n",
    "    y_train, y_test = y[train_index], y[test_index]\n",
    "    print(X_train.shape, X_test.shape)\n",
    "    logistic=LogisticRegression()\n",
    "    logistic.fit(X_train,y_train)\n",
    "    pred=logistic.predict(X_test)\n",
    "    acc=accuracy_score(pred,y_test)\n",
    "    accuracy=accuracy+acc\n",
    "    confusion_matrix(pred,y_test)\n",
    "    a,b,c,d=precision_recall_fscore_support(y_test, pred, average='macro')\n",
    "    precision=precision+a\n",
    "    recall=recall+b\n",
    "    f_score=f_score+c\n",
    "print(accuracy/5)\n",
    "print(precision/5)\n",
    "print(recall/5)\n",
    "print(f_score/5)"
   ]
  },
  {
   "cell_type": "code",
   "execution_count": 46,
   "metadata": {},
   "outputs": [
    {
     "name": "stdout",
     "output_type": "stream",
     "text": [
      "TRAIN: [  46980   46981   46982 ... 1604985 1604986 1604987] TEST: [     0      1      2 ... 324326 324337 324349]\n",
      "(1524738, 7) (80250, 7)\n",
      "TRAIN: [      0       1       2 ... 1604985 1604986 1604987] TEST: [ 46980  46981  46982 ... 882741 882742 882743]\n",
      "(1524738, 7) (80250, 7)\n",
      "TRAIN: [      0       1       2 ... 1604985 1604986 1604987] TEST: [ 92587  92588  92589 ... 922866 922867 922868]\n",
      "(1524738, 7) (80250, 7)\n",
      "TRAIN: [      0       1       2 ... 1604985 1604986 1604987] TEST: [139016 139017 139018 ... 962991 962992 962993]\n",
      "(1524738, 7) (80250, 7)\n",
      "TRAIN: [      0       1       2 ... 1604985 1604986 1604987] TEST: [ 186209  186210  186211 ... 1003116 1003117 1003118]\n",
      "(1524738, 7) (80250, 7)\n",
      "TRAIN: [      0       1       2 ... 1604985 1604986 1604987] TEST: [ 233542  233543  233544 ... 1043241 1043242 1043243]\n",
      "(1524738, 7) (80250, 7)\n",
      "TRAIN: [      0       1       2 ... 1604985 1604986 1604987] TEST: [ 276769  276770  276771 ... 1083366 1083367 1083368]\n",
      "(1524738, 7) (80250, 7)\n",
      "TRAIN: [      0       1       2 ... 1604985 1604986 1604987] TEST: [ 320658  320659  320660 ... 1123491 1123492 1123493]\n",
      "(1524738, 7) (80250, 7)\n",
      "TRAIN: [      0       1       2 ... 1604985 1604986 1604987] TEST: [ 365083  365085  365087 ... 1163615 1163616 1163617]\n",
      "(1524739, 7) (80249, 7)\n",
      "TRAIN: [      0       1       2 ... 1604985 1604986 1604987] TEST: [ 409943  409944  409945 ... 1203739 1203740 1203741]\n",
      "(1524739, 7) (80249, 7)\n",
      "TRAIN: [      0       1       2 ... 1604985 1604986 1604987] TEST: [ 454957  454958  454960 ... 1243863 1243864 1243865]\n",
      "(1524739, 7) (80249, 7)\n",
      "TRAIN: [      0       1       2 ... 1604985 1604986 1604987] TEST: [ 496313  496314  496315 ... 1283987 1283988 1283989]\n",
      "(1524739, 7) (80249, 7)\n",
      "TRAIN: [      0       1       2 ... 1604985 1604986 1604987] TEST: [ 536705  536706  536707 ... 1324111 1324112 1324113]\n",
      "(1524739, 7) (80249, 7)\n",
      "TRAIN: [      0       1       2 ... 1604985 1604986 1604987] TEST: [ 577168  577169  577170 ... 1364235 1364236 1364237]\n",
      "(1524739, 7) (80249, 7)\n",
      "TRAIN: [      0       1       2 ... 1604985 1604986 1604987] TEST: [ 617862  617863  617864 ... 1404360 1404361 1404362]\n",
      "(1524739, 7) (80249, 7)\n",
      "TRAIN: [      0       1       2 ... 1604985 1604986 1604987] TEST: [ 658769  658770  658771 ... 1444485 1444486 1444487]\n",
      "(1524739, 7) (80249, 7)\n",
      "TRAIN: [      0       1       2 ... 1604985 1604986 1604987] TEST: [ 700153  700154  700155 ... 1484610 1484611 1484612]\n",
      "(1524739, 7) (80249, 7)\n",
      "TRAIN: [      0       1       2 ... 1604985 1604986 1604987] TEST: [ 741854  741855  741856 ... 1524735 1524736 1524737]\n",
      "(1524739, 7) (80249, 7)\n",
      "TRAIN: [      0       1       2 ... 1604985 1604986 1604987] TEST: [ 783775  783776  783777 ... 1564860 1564861 1564862]\n",
      "(1524739, 7) (80249, 7)\n",
      "TRAIN: [      0       1       2 ... 1564860 1564861 1564862] TEST: [ 826147  826148  826149 ... 1604985 1604986 1604987]\n",
      "(1524739, 7) (80249, 7)\n",
      "0.7370070274262013\n",
      "0.7386418119549484\n",
      "0.737007123074233\n",
      "0.730329473544406\n"
     ]
    }
   ],
   "source": [
    "kf20 = StratifiedKFold(n_splits=20)\n",
    "from sklearn.ensemble import RandomForestClassifier\n",
    "accuracy=0\n",
    "precision=0\n",
    "recall=0\n",
    "f_score=0\n",
    "for train_index, test_index in kf20.split(x,y):\n",
    "    print(\"TRAIN:\", train_index, \"TEST:\", test_index)\n",
    "    X_train, X_test = x[train_index], x[test_index]\n",
    "    y_train, y_test = y[train_index], y[test_index]\n",
    "    print(X_train.shape, X_test.shape)\n",
    "    logistic=LogisticRegression()\n",
    "    logistic.fit(X_train,y_train)\n",
    "    pred=logistic.predict(X_test)\n",
    "    acc=accuracy_score(pred,y_test)\n",
    "    accuracy=accuracy+acc\n",
    "    confusion_matrix(pred,y_test)\n",
    "    a,b,c,d=precision_recall_fscore_support(y_test, pred, average='macro')\n",
    "    precision=precision+a\n",
    "    recall=recall+b\n",
    "    f_score=f_score+c\n",
    "print(accuracy/20)\n",
    "print(precision/20)\n",
    "print(recall/20)\n",
    "print(f_score/20)"
   ]
  },
  {
   "cell_type": "code",
   "execution_count": null,
   "metadata": {},
   "outputs": [],
   "source": []
  }
 ],
 "metadata": {
  "kernelspec": {
   "display_name": "Python 3",
   "language": "python",
   "name": "python3"
  },
  "language_info": {
   "codemirror_mode": {
    "name": "ipython",
    "version": 3
   },
   "file_extension": ".py",
   "mimetype": "text/x-python",
   "name": "python",
   "nbconvert_exporter": "python",
   "pygments_lexer": "ipython3",
   "version": "3.6.5"
  }
 },
 "nbformat": 4,
 "nbformat_minor": 2
}

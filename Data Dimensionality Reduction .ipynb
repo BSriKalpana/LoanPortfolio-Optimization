{
 "cells": [
  {
   "cell_type": "code",
   "execution_count": 1,
   "metadata": {},
   "outputs": [],
   "source": [
    "import numpy as np, pandas as pd, matplotlib.pyplot as plt\n",
    "import seaborn as sns"
   ]
  },
  {
   "cell_type": "code",
   "execution_count": 2,
   "metadata": {},
   "outputs": [
    {
     "data": {
      "text/html": [
       "<div>\n",
       "<style scoped>\n",
       "    .dataframe tbody tr th:only-of-type {\n",
       "        vertical-align: middle;\n",
       "    }\n",
       "\n",
       "    .dataframe tbody tr th {\n",
       "        vertical-align: top;\n",
       "    }\n",
       "\n",
       "    .dataframe thead th {\n",
       "        text-align: right;\n",
       "    }\n",
       "</style>\n",
       "<table border=\"1\" class=\"dataframe\">\n",
       "  <thead>\n",
       "    <tr style=\"text-align: right;\">\n",
       "      <th></th>\n",
       "      <th>year</th>\n",
       "      <th>emp_length_int</th>\n",
       "      <th>home_ownership_cat</th>\n",
       "      <th>income_cat</th>\n",
       "      <th>loan_amount</th>\n",
       "      <th>term_cat</th>\n",
       "      <th>purpose_cat</th>\n",
       "      <th>interest_payment_cat</th>\n",
       "      <th>loan_condition</th>\n",
       "      <th>interest_rate</th>\n",
       "      <th>grade_cat</th>\n",
       "      <th>total_pymnt</th>\n",
       "      <th>total_rec_prncp</th>\n",
       "      <th>installment</th>\n",
       "      <th>region</th>\n",
       "    </tr>\n",
       "  </thead>\n",
       "  <tbody>\n",
       "    <tr>\n",
       "      <th>0</th>\n",
       "      <td>4</td>\n",
       "      <td>2</td>\n",
       "      <td>1</td>\n",
       "      <td>1</td>\n",
       "      <td>0</td>\n",
       "      <td>1</td>\n",
       "      <td>1</td>\n",
       "      <td>1</td>\n",
       "      <td>1</td>\n",
       "      <td>2</td>\n",
       "      <td>2</td>\n",
       "      <td>1</td>\n",
       "      <td>1</td>\n",
       "      <td>0</td>\n",
       "      <td>4</td>\n",
       "    </tr>\n",
       "    <tr>\n",
       "      <th>1</th>\n",
       "      <td>4</td>\n",
       "      <td>0</td>\n",
       "      <td>1</td>\n",
       "      <td>1</td>\n",
       "      <td>0</td>\n",
       "      <td>2</td>\n",
       "      <td>2</td>\n",
       "      <td>2</td>\n",
       "      <td>0</td>\n",
       "      <td>3</td>\n",
       "      <td>3</td>\n",
       "      <td>0</td>\n",
       "      <td>0</td>\n",
       "      <td>0</td>\n",
       "      <td>0</td>\n",
       "    </tr>\n",
       "    <tr>\n",
       "      <th>2</th>\n",
       "      <td>4</td>\n",
       "      <td>2</td>\n",
       "      <td>1</td>\n",
       "      <td>1</td>\n",
       "      <td>0</td>\n",
       "      <td>1</td>\n",
       "      <td>3</td>\n",
       "      <td>2</td>\n",
       "      <td>1</td>\n",
       "      <td>3</td>\n",
       "      <td>3</td>\n",
       "      <td>0</td>\n",
       "      <td>0</td>\n",
       "      <td>0</td>\n",
       "      <td>3</td>\n",
       "    </tr>\n",
       "    <tr>\n",
       "      <th>3</th>\n",
       "      <td>4</td>\n",
       "      <td>2</td>\n",
       "      <td>1</td>\n",
       "      <td>1</td>\n",
       "      <td>1</td>\n",
       "      <td>1</td>\n",
       "      <td>4</td>\n",
       "      <td>2</td>\n",
       "      <td>1</td>\n",
       "      <td>2</td>\n",
       "      <td>3</td>\n",
       "      <td>2</td>\n",
       "      <td>2</td>\n",
       "      <td>1</td>\n",
       "      <td>1</td>\n",
       "    </tr>\n",
       "    <tr>\n",
       "      <th>4</th>\n",
       "      <td>4</td>\n",
       "      <td>0</td>\n",
       "      <td>1</td>\n",
       "      <td>1</td>\n",
       "      <td>0</td>\n",
       "      <td>2</td>\n",
       "      <td>4</td>\n",
       "      <td>1</td>\n",
       "      <td>1</td>\n",
       "      <td>2</td>\n",
       "      <td>2</td>\n",
       "      <td>0</td>\n",
       "      <td>0</td>\n",
       "      <td>0</td>\n",
       "      <td>1</td>\n",
       "    </tr>\n",
       "  </tbody>\n",
       "</table>\n",
       "</div>"
      ],
      "text/plain": [
       "   year  emp_length_int  home_ownership_cat  income_cat  loan_amount  \\\n",
       "0     4               2                   1           1            0   \n",
       "1     4               0                   1           1            0   \n",
       "2     4               2                   1           1            0   \n",
       "3     4               2                   1           1            1   \n",
       "4     4               0                   1           1            0   \n",
       "\n",
       "   term_cat  purpose_cat  interest_payment_cat  loan_condition  interest_rate  \\\n",
       "0         1            1                     1               1              2   \n",
       "1         2            2                     2               0              3   \n",
       "2         1            3                     2               1              3   \n",
       "3         1            4                     2               1              2   \n",
       "4         2            4                     1               1              2   \n",
       "\n",
       "   grade_cat  total_pymnt  total_rec_prncp  installment  region  \n",
       "0          2            1                1            0       4  \n",
       "1          3            0                0            0       0  \n",
       "2          3            0                0            0       3  \n",
       "3          3            2                2            1       1  \n",
       "4          2            0                0            0       1  "
      ]
     },
     "execution_count": 2,
     "metadata": {},
     "output_type": "execute_result"
    }
   ],
   "source": [
    "data=pd.read_csv('C:/Users/sai kiran/Desktop/export_dataframe.csv')\n",
    "data.head()"
   ]
  },
  {
   "cell_type": "code",
   "execution_count": 3,
   "metadata": {},
   "outputs": [
    {
     "data": {
      "text/plain": [
       "868946"
      ]
     },
     "execution_count": 3,
     "metadata": {},
     "output_type": "execute_result"
    }
   ],
   "source": [
    "len(data)"
   ]
  },
  {
   "cell_type": "markdown",
   "metadata": {},
   "source": [
    "### PCA"
   ]
  },
  {
   "cell_type": "code",
   "execution_count": 4,
   "metadata": {},
   "outputs": [
    {
     "name": "stderr",
     "output_type": "stream",
     "text": [
      "C:\\Anaconda3\\lib\\site-packages\\sklearn\\cross_validation.py:41: DeprecationWarning: This module was deprecated in version 0.18 in favor of the model_selection module into which all the refactored classes and functions are moved. Also note that the interface of the new CV iterators are different from that of this module. This module will be removed in 0.20.\n",
      "  \"This module will be removed in 0.20.\", DeprecationWarning)\n"
     ]
    },
    {
     "name": "stdout",
     "output_type": "stream",
     "text": [
      "[[-3.89014161  0.70229024 -0.5539965  ... -0.18723329  0.11371368\n",
      "   0.57003588]\n",
      " [-2.57951727 -0.47178081  1.07879067 ...  0.40621725  0.06890602\n",
      "   0.40842075]\n",
      " [-1.63698094 -0.48746871  0.71798891 ... -0.41319872  0.12529852\n",
      "   0.38122765]\n",
      " ...\n",
      " [ 1.36910677 -1.8013107   1.70012963 ...  0.3676323  -0.11947761\n",
      "   0.04555552]\n",
      " [ 1.49016829 -1.78105474  2.44270258 ...  0.30771987 -0.08427237\n",
      "   0.00783908]\n",
      " [-3.97930216  0.30563148  0.05818335 ... -0.6425049  -0.25165819\n",
      "  -0.2203371 ]] [[1]\n",
      " [0]\n",
      " [1]\n",
      " ...\n",
      " [1]\n",
      " [1]\n",
      " [1]]\n",
      "(868946, 11) (868946, 1)\n"
     ]
    }
   ],
   "source": [
    "from sklearn.decomposition import PCA\n",
    "from sklearn.metrics import accuracy_score,confusion_matrix\n",
    "from sklearn.cross_validation import train_test_split\n",
    "from sklearn.linear_model import LogisticRegression,Perceptron\n",
    "pca = PCA(n_components=11)\n",
    "y=data['loan_condition'].values\n",
    "data.drop('loan_condition',axis=1,inplace=True)\n",
    "X=data[:].values\n",
    "y=y.reshape(-1, 1)\n",
    "x = pca.fit_transform(X)\n",
    "x_train,x_test,y_train,y_test = train_test_split(x,y)\n",
    "print(x,y)\n",
    "print(x.shape,y.shape)"
   ]
  },
  {
   "cell_type": "code",
   "execution_count": 5,
   "metadata": {},
   "outputs": [
    {
     "name": "stderr",
     "output_type": "stream",
     "text": [
      "C:\\Anaconda3\\lib\\site-packages\\sklearn\\utils\\validation.py:578: DataConversionWarning: A column-vector y was passed when a 1d array was expected. Please change the shape of y to (n_samples, ), for example using ravel().\n",
      "  y = column_or_1d(y, warn=True)\n"
     ]
    },
    {
     "name": "stdout",
     "output_type": "stream",
     "text": [
      "0.9243545068289472\n"
     ]
    },
    {
     "data": {
      "text/plain": [
       "array([[  1450,   1364],\n",
       "       [ 15069, 199354]], dtype=int64)"
      ]
     },
     "execution_count": 5,
     "metadata": {},
     "output_type": "execute_result"
    }
   ],
   "source": [
    "logistic=LogisticRegression()\n",
    "logistic.fit(x_train,y_train)\n",
    "pred=logistic.predict(x_test)\n",
    "print(accuracy_score(pred,y_test))\n",
    "confusion_matrix(pred,y_test)"
   ]
  },
  {
   "cell_type": "markdown",
   "metadata": {},
   "source": [
    "### SVD"
   ]
  },
  {
   "cell_type": "code",
   "execution_count": 6,
   "metadata": {},
   "outputs": [
    {
     "name": "stdout",
     "output_type": "stream",
     "text": [
      "[[ 5.86311649 -1.94146222  0.9559941  ...  2.97837388  0.25000549\n",
      "  -0.90587634]\n",
      " [ 6.0197011  -0.91226898 -0.48355861 ... -0.47292508  0.14684092\n",
      "  -0.57750172]\n",
      " [ 7.1005899  -0.48488628 -0.53969513 ...  2.31815105  0.57393121\n",
      "  -0.49440892]\n",
      " ...\n",
      " [11.30140821  0.20611554 -1.80283877 ... -1.47801614 -0.83923322\n",
      "   0.19525852]\n",
      " [11.79770931 -0.04256594 -1.66522174 ...  0.56048299 -1.18360123\n",
      "   0.41963723]\n",
      " [ 8.34040461 -3.51717606  1.10033237 ... -2.06798375 -1.06412554\n",
      "  -0.08472932]] [[1]\n",
      " [0]\n",
      " [1]\n",
      " ...\n",
      " [1]\n",
      " [1]\n",
      " [1]]\n",
      "(868946, 7) (868946, 1)\n"
     ]
    }
   ],
   "source": [
    "from sklearn.decomposition import TruncatedSVD\n",
    "svd = TruncatedSVD(n_components=7, n_iter=7, random_state=42)\n",
    "x=svd.fit_transform(X)\n",
    "x_train,x_test,y_train,y_test = train_test_split(x,y)\n",
    "print(x,y)\n",
    "print(x.shape,y.shape)"
   ]
  },
  {
   "cell_type": "code",
   "execution_count": 7,
   "metadata": {},
   "outputs": [
    {
     "name": "stderr",
     "output_type": "stream",
     "text": [
      "C:\\Anaconda3\\lib\\site-packages\\sklearn\\utils\\validation.py:578: DataConversionWarning: A column-vector y was passed when a 1d array was expected. Please change the shape of y to (n_samples, ), for example using ravel().\n",
      "  y = column_or_1d(y, warn=True)\n"
     ]
    },
    {
     "name": "stdout",
     "output_type": "stream",
     "text": [
      "0.923199086711748\n"
     ]
    },
    {
     "data": {
      "text/plain": [
       "array([[  1252,   1304],\n",
       "       [ 15380, 199301]], dtype=int64)"
      ]
     },
     "execution_count": 7,
     "metadata": {},
     "output_type": "execute_result"
    }
   ],
   "source": [
    "logistic=LogisticRegression()\n",
    "logistic.fit(x_train,y_train)\n",
    "pred=logistic.predict(x_test)\n",
    "print(accuracy_score(pred,y_test))\n",
    "confusion_matrix(pred,y_test)"
   ]
  },
  {
   "cell_type": "markdown",
   "metadata": {},
   "source": [
    "### NMF"
   ]
  },
  {
   "cell_type": "code",
   "execution_count": 8,
   "metadata": {},
   "outputs": [
    {
     "name": "stdout",
     "output_type": "stream",
     "text": [
      "[[0.05196573 0.00534667 0.02757231 0.03490312]\n",
      " [0.0330109  0.01912181 0.         0.07290385]\n",
      " [0.04251581 0.02975414 0.00317833 0.06443892]\n",
      " ...\n",
      " [0.07008864 0.06199191 0.         0.07747214]\n",
      " [0.0721697  0.06096716 0.         0.08863169]\n",
      " [0.08589836 0.00205383 0.03694153 0.03307064]] [[1]\n",
      " [0]\n",
      " [1]\n",
      " ...\n",
      " [1]\n",
      " [1]\n",
      " [1]]\n",
      "(868946, 4) (868946, 1)\n"
     ]
    }
   ],
   "source": [
    "from sklearn.decomposition import NMF\n",
    "clf = NMF(n_components=4)\n",
    "x=clf.fit_transform(X)\n",
    "x_train,x_test,y_train,y_test = train_test_split(x,y)\n",
    "print(x,y)\n",
    "print(x.shape,y.shape)"
   ]
  },
  {
   "cell_type": "code",
   "execution_count": 9,
   "metadata": {},
   "outputs": [
    {
     "name": "stderr",
     "output_type": "stream",
     "text": [
      "C:\\Anaconda3\\lib\\site-packages\\sklearn\\utils\\validation.py:578: DataConversionWarning: A column-vector y was passed when a 1d array was expected. Please change the shape of y to (n_samples, ), for example using ravel().\n",
      "  y = column_or_1d(y, warn=True)\n"
     ]
    },
    {
     "name": "stdout",
     "output_type": "stream",
     "text": [
      "0.923774495136648\n"
     ]
    },
    {
     "data": {
      "text/plain": [
       "array([[   269,    327],\n",
       "       [ 16232, 200409]], dtype=int64)"
      ]
     },
     "execution_count": 9,
     "metadata": {},
     "output_type": "execute_result"
    }
   ],
   "source": [
    "logistic=LogisticRegression()\n",
    "logistic.fit(x_train,y_train)\n",
    "pred=logistic.predict(x_test)\n",
    "print(accuracy_score(pred,y_test))\n",
    "confusion_matrix(pred,y_test)"
   ]
  },
  {
   "cell_type": "markdown",
   "metadata": {},
   "source": [
    "### LDA"
   ]
  },
  {
   "cell_type": "code",
   "execution_count": 10,
   "metadata": {},
   "outputs": [
    {
     "name": "stderr",
     "output_type": "stream",
     "text": [
      "C:\\Anaconda3\\lib\\site-packages\\sklearn\\utils\\validation.py:578: DataConversionWarning: A column-vector y was passed when a 1d array was expected. Please change the shape of y to (n_samples, ), for example using ravel().\n",
      "  y = column_or_1d(y, warn=True)\n"
     ]
    },
    {
     "name": "stdout",
     "output_type": "stream",
     "text": [
      "[[ 0.96349979]\n",
      " [-0.91595241]\n",
      " [ 0.19953202]\n",
      " ...\n",
      " [-1.38608964]\n",
      " [-1.16076172]\n",
      " [ 0.75388065]] [[1]\n",
      " [1]\n",
      " [1]\n",
      " ...\n",
      " [1]\n",
      " [1]\n",
      " [1]]\n",
      "(651709, 1) (651709, 1)\n"
     ]
    }
   ],
   "source": [
    "from sklearn.discriminant_analysis import LinearDiscriminantAnalysis as LDA\n",
    "lda = LDA()\n",
    "x_train,x_test,y_train,y_test = train_test_split(X,y)\n",
    "x_train = lda.fit_transform(x_train, y_train)\n",
    "x_test = lda.transform(x_test)\n",
    "print(x_train,y_train)\n",
    "print(x_train.shape,y_train.shape)"
   ]
  },
  {
   "cell_type": "code",
   "execution_count": 11,
   "metadata": {},
   "outputs": [
    {
     "name": "stderr",
     "output_type": "stream",
     "text": [
      "C:\\Anaconda3\\lib\\site-packages\\sklearn\\utils\\validation.py:578: DataConversionWarning: A column-vector y was passed when a 1d array was expected. Please change the shape of y to (n_samples, ), for example using ravel().\n",
      "  y = column_or_1d(y, warn=True)\n"
     ]
    },
    {
     "name": "stdout",
     "output_type": "stream",
     "text": [
      "0.9233924239425144\n"
     ]
    },
    {
     "data": {
      "text/plain": [
       "array([[  1686,   1635],\n",
       "       [ 15007, 198909]], dtype=int64)"
      ]
     },
     "execution_count": 11,
     "metadata": {},
     "output_type": "execute_result"
    }
   ],
   "source": [
    "logistic=LogisticRegression()\n",
    "logistic.fit(x_train,y_train)\n",
    "pred=logistic.predict(x_test)\n",
    "print(accuracy_score(pred,y_test))\n",
    "confusion_matrix(pred,y_test)"
   ]
  },
  {
   "cell_type": "code",
   "execution_count": null,
   "metadata": {},
   "outputs": [],
   "source": []
  }
 ],
 "metadata": {
  "kernelspec": {
   "display_name": "Python 3",
   "language": "python",
   "name": "python3"
  },
  "language_info": {
   "codemirror_mode": {
    "name": "ipython",
    "version": 3
   },
   "file_extension": ".py",
   "mimetype": "text/x-python",
   "name": "python",
   "nbconvert_exporter": "python",
   "pygments_lexer": "ipython3",
   "version": "3.6.5"
  }
 },
 "nbformat": 4,
 "nbformat_minor": 2
}

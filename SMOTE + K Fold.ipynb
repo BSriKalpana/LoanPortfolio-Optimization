{
 "cells": [
  {
   "cell_type": "code",
   "execution_count": 12,
   "metadata": {},
   "outputs": [],
   "source": [
    "import numpy as np, pandas as pd, matplotlib.pyplot as plt\n",
    "import seaborn as sns\n",
    "from sklearn.metrics import precision_recall_fscore_support"
   ]
  },
  {
   "cell_type": "code",
   "execution_count": 13,
   "metadata": {},
   "outputs": [
    {
     "data": {
      "text/html": [
       "<div>\n",
       "<style scoped>\n",
       "    .dataframe tbody tr th:only-of-type {\n",
       "        vertical-align: middle;\n",
       "    }\n",
       "\n",
       "    .dataframe tbody tr th {\n",
       "        vertical-align: top;\n",
       "    }\n",
       "\n",
       "    .dataframe thead th {\n",
       "        text-align: right;\n",
       "    }\n",
       "</style>\n",
       "<table border=\"1\" class=\"dataframe\">\n",
       "  <thead>\n",
       "    <tr style=\"text-align: right;\">\n",
       "      <th></th>\n",
       "      <th>year</th>\n",
       "      <th>emp_length_int</th>\n",
       "      <th>home_ownership_cat</th>\n",
       "      <th>income_cat</th>\n",
       "      <th>loan_amount</th>\n",
       "      <th>term_cat</th>\n",
       "      <th>purpose_cat</th>\n",
       "      <th>interest_payment_cat</th>\n",
       "      <th>loan_condition</th>\n",
       "      <th>interest_rate</th>\n",
       "      <th>grade_cat</th>\n",
       "      <th>total_pymnt</th>\n",
       "      <th>total_rec_prncp</th>\n",
       "      <th>installment</th>\n",
       "      <th>region</th>\n",
       "    </tr>\n",
       "  </thead>\n",
       "  <tbody>\n",
       "    <tr>\n",
       "      <th>0</th>\n",
       "      <td>4</td>\n",
       "      <td>2</td>\n",
       "      <td>1</td>\n",
       "      <td>1</td>\n",
       "      <td>0</td>\n",
       "      <td>1</td>\n",
       "      <td>1</td>\n",
       "      <td>1</td>\n",
       "      <td>1</td>\n",
       "      <td>2</td>\n",
       "      <td>2</td>\n",
       "      <td>1</td>\n",
       "      <td>1</td>\n",
       "      <td>0</td>\n",
       "      <td>4</td>\n",
       "    </tr>\n",
       "    <tr>\n",
       "      <th>1</th>\n",
       "      <td>4</td>\n",
       "      <td>0</td>\n",
       "      <td>1</td>\n",
       "      <td>1</td>\n",
       "      <td>0</td>\n",
       "      <td>2</td>\n",
       "      <td>2</td>\n",
       "      <td>2</td>\n",
       "      <td>0</td>\n",
       "      <td>3</td>\n",
       "      <td>3</td>\n",
       "      <td>0</td>\n",
       "      <td>0</td>\n",
       "      <td>0</td>\n",
       "      <td>0</td>\n",
       "    </tr>\n",
       "    <tr>\n",
       "      <th>2</th>\n",
       "      <td>4</td>\n",
       "      <td>2</td>\n",
       "      <td>1</td>\n",
       "      <td>1</td>\n",
       "      <td>0</td>\n",
       "      <td>1</td>\n",
       "      <td>3</td>\n",
       "      <td>2</td>\n",
       "      <td>1</td>\n",
       "      <td>3</td>\n",
       "      <td>3</td>\n",
       "      <td>0</td>\n",
       "      <td>0</td>\n",
       "      <td>0</td>\n",
       "      <td>3</td>\n",
       "    </tr>\n",
       "    <tr>\n",
       "      <th>3</th>\n",
       "      <td>4</td>\n",
       "      <td>2</td>\n",
       "      <td>1</td>\n",
       "      <td>1</td>\n",
       "      <td>1</td>\n",
       "      <td>1</td>\n",
       "      <td>4</td>\n",
       "      <td>2</td>\n",
       "      <td>1</td>\n",
       "      <td>2</td>\n",
       "      <td>3</td>\n",
       "      <td>2</td>\n",
       "      <td>2</td>\n",
       "      <td>1</td>\n",
       "      <td>1</td>\n",
       "    </tr>\n",
       "    <tr>\n",
       "      <th>4</th>\n",
       "      <td>4</td>\n",
       "      <td>0</td>\n",
       "      <td>1</td>\n",
       "      <td>1</td>\n",
       "      <td>0</td>\n",
       "      <td>2</td>\n",
       "      <td>4</td>\n",
       "      <td>1</td>\n",
       "      <td>1</td>\n",
       "      <td>2</td>\n",
       "      <td>2</td>\n",
       "      <td>0</td>\n",
       "      <td>0</td>\n",
       "      <td>0</td>\n",
       "      <td>1</td>\n",
       "    </tr>\n",
       "  </tbody>\n",
       "</table>\n",
       "</div>"
      ],
      "text/plain": [
       "   year  emp_length_int  home_ownership_cat  income_cat  loan_amount  \\\n",
       "0     4               2                   1           1            0   \n",
       "1     4               0                   1           1            0   \n",
       "2     4               2                   1           1            0   \n",
       "3     4               2                   1           1            1   \n",
       "4     4               0                   1           1            0   \n",
       "\n",
       "   term_cat  purpose_cat  interest_payment_cat  loan_condition  interest_rate  \\\n",
       "0         1            1                     1               1              2   \n",
       "1         2            2                     2               0              3   \n",
       "2         1            3                     2               1              3   \n",
       "3         1            4                     2               1              2   \n",
       "4         2            4                     1               1              2   \n",
       "\n",
       "   grade_cat  total_pymnt  total_rec_prncp  installment  region  \n",
       "0          2            1                1            0       4  \n",
       "1          3            0                0            0       0  \n",
       "2          3            0                0            0       3  \n",
       "3          3            2                2            1       1  \n",
       "4          2            0                0            0       1  "
      ]
     },
     "execution_count": 13,
     "metadata": {},
     "output_type": "execute_result"
    }
   ],
   "source": [
    "data=pd.read_csv('C:/Users/sai kiran/Desktop/export_dataframe.csv')\n",
    "data.head()"
   ]
  },
  {
   "cell_type": "code",
   "execution_count": 14,
   "metadata": {},
   "outputs": [
    {
     "name": "stdout",
     "output_type": "stream",
     "text": [
      "(868946, 14) (868946, 1)\n"
     ]
    }
   ],
   "source": [
    "# Before SMOTE\n",
    "from imblearn.over_sampling import SMOTE \n",
    "sm = SMOTE(random_state = 2)\n",
    "y=data['loan_condition'].values\n",
    "data.drop('loan_condition',axis=1,inplace=True)\n",
    "X=data[:].values\n",
    "y=y.reshape(-1, 1)\n",
    "print(X.shape,y.shape)"
   ]
  },
  {
   "cell_type": "code",
   "execution_count": 15,
   "metadata": {},
   "outputs": [
    {
     "name": "stdout",
     "output_type": "stream",
     "text": [
      "(1604988, 14) (1604988,)\n"
     ]
    }
   ],
   "source": [
    "# After Smote\n",
    "X,y=sm.fit_sample(X, y.ravel())\n",
    "print(X.shape,y.shape)"
   ]
  },
  {
   "cell_type": "code",
   "execution_count": 19,
   "metadata": {},
   "outputs": [
    {
     "name": "stdout",
     "output_type": "stream",
     "text": [
      "[[ 5.83115829 -2.19215882  0.48358609 ...  2.95478024  0.02758522\n",
      "  -1.10054719]\n",
      " [ 6.12918522 -0.93437828 -0.65467543 ... -0.63128138  0.03824622\n",
      "  -0.70712518]\n",
      " [ 7.19910753 -0.48692134 -0.62186293 ...  2.19170933  0.32986355\n",
      "  -0.76235483]\n",
      " ...\n",
      " [10.59901376  0.5523302   0.42646834 ...  0.12766757  0.23409406\n",
      "  -0.10332271]\n",
      " [11.35065848  0.43346422 -1.36363657 ...  0.53089533  1.09303435\n",
      "  -0.46776865]\n",
      " [ 8.05101229 -3.44623916 -0.38316947 ...  2.5948228   0.55149963\n",
      "  -0.97623493]] [1 0 1 ... 0 0 0]\n",
      "(1604988, 7) (1604988,)\n"
     ]
    }
   ],
   "source": [
    "from sklearn.decomposition import TruncatedSVD\n",
    "from sklearn.metrics import accuracy_score,confusion_matrix\n",
    "from sklearn.model_selection import KFold\n",
    "kf5 = KFold(n_splits=5)\n",
    "kf2 = KFold(n_splits=2)\n",
    "kf3 = KFold(n_splits=3)\n",
    "kf10 = KFold(n_splits=10)\n",
    "from sklearn.linear_model import LogisticRegression,Perceptron\n",
    "svd = TruncatedSVD(n_components=7, n_iter=7, random_state=42)\n",
    "x=svd.fit_transform(X)\n",
    "print(x,y)\n",
    "print(x.shape,y.shape)"
   ]
  },
  {
   "cell_type": "code",
   "execution_count": 20,
   "metadata": {},
   "outputs": [
    {
     "data": {
      "text/plain": [
       "10"
      ]
     },
     "execution_count": 20,
     "metadata": {},
     "output_type": "execute_result"
    }
   ],
   "source": [
    "kf10.get_n_splits(X)"
   ]
  },
  {
   "cell_type": "markdown",
   "metadata": {},
   "source": [
    "### 10 fold"
   ]
  },
  {
   "cell_type": "code",
   "execution_count": 25,
   "metadata": {},
   "outputs": [
    {
     "name": "stdout",
     "output_type": "stream",
     "text": [
      "TRAIN: [ 160499  160500  160501 ... 1604985 1604986 1604987] TEST: [     0      1      2 ... 160496 160497 160498]\n",
      "(1444489, 7) (160499, 7)\n",
      "TRAIN: [      0       1       2 ... 1604985 1604986 1604987] TEST: [160499 160500 160501 ... 320995 320996 320997]\n",
      "(1444489, 7) (160499, 7)\n",
      "TRAIN: [      0       1       2 ... 1604985 1604986 1604987] TEST: [320998 320999 321000 ... 481494 481495 481496]\n",
      "(1444489, 7) (160499, 7)\n",
      "TRAIN: [      0       1       2 ... 1604985 1604986 1604987] TEST: [481497 481498 481499 ... 641993 641994 641995]\n",
      "(1444489, 7) (160499, 7)\n",
      "TRAIN: [      0       1       2 ... 1604985 1604986 1604987] TEST: [641996 641997 641998 ... 802492 802493 802494]\n",
      "(1444489, 7) (160499, 7)\n",
      "TRAIN: [      0       1       2 ... 1604985 1604986 1604987] TEST: [802495 802496 802497 ... 962991 962992 962993]\n",
      "(1444489, 7) (160499, 7)\n",
      "TRAIN: [      0       1       2 ... 1604985 1604986 1604987] TEST: [ 962994  962995  962996 ... 1123490 1123491 1123492]\n",
      "(1444489, 7) (160499, 7)\n"
     ]
    },
    {
     "name": "stderr",
     "output_type": "stream",
     "text": [
      "C:\\Anaconda3\\lib\\site-packages\\sklearn\\metrics\\_classification.py:1221: UndefinedMetricWarning: Recall and F-score are ill-defined and being set to 0.0 in labels with no true samples. Use `zero_division` parameter to control this behavior.\n",
      "  _warn_prf(average, modifier, msg_start, len(result))\n"
     ]
    },
    {
     "name": "stdout",
     "output_type": "stream",
     "text": [
      "TRAIN: [      0       1       2 ... 1604985 1604986 1604987] TEST: [1123493 1123494 1123495 ... 1283989 1283990 1283991]\n",
      "(1444489, 7) (160499, 7)\n"
     ]
    },
    {
     "name": "stderr",
     "output_type": "stream",
     "text": [
      "C:\\Anaconda3\\lib\\site-packages\\sklearn\\metrics\\_classification.py:1221: UndefinedMetricWarning: Recall and F-score are ill-defined and being set to 0.0 in labels with no true samples. Use `zero_division` parameter to control this behavior.\n",
      "  _warn_prf(average, modifier, msg_start, len(result))\n"
     ]
    },
    {
     "name": "stdout",
     "output_type": "stream",
     "text": [
      "TRAIN: [      0       1       2 ... 1604985 1604986 1604987] TEST: [1283992 1283993 1283994 ... 1444487 1444488 1444489]\n",
      "(1444490, 7) (160498, 7)\n"
     ]
    },
    {
     "name": "stderr",
     "output_type": "stream",
     "text": [
      "C:\\Anaconda3\\lib\\site-packages\\sklearn\\metrics\\_classification.py:1221: UndefinedMetricWarning: Recall and F-score are ill-defined and being set to 0.0 in labels with no true samples. Use `zero_division` parameter to control this behavior.\n",
      "  _warn_prf(average, modifier, msg_start, len(result))\n"
     ]
    },
    {
     "name": "stdout",
     "output_type": "stream",
     "text": [
      "TRAIN: [      0       1       2 ... 1444487 1444488 1444489] TEST: [1444490 1444491 1444492 ... 1604985 1604986 1604987]\n",
      "(1444490, 7) (160498, 7)\n",
      "0.6465873947821708\n",
      "0.5615762538281481\n",
      "0.5444426129743546\n",
      "0.47711302189603816\n"
     ]
    },
    {
     "name": "stderr",
     "output_type": "stream",
     "text": [
      "C:\\Anaconda3\\lib\\site-packages\\sklearn\\metrics\\_classification.py:1221: UndefinedMetricWarning: Recall and F-score are ill-defined and being set to 0.0 in labels with no true samples. Use `zero_division` parameter to control this behavior.\n",
      "  _warn_prf(average, modifier, msg_start, len(result))\n"
     ]
    }
   ],
   "source": [
    "from sklearn.ensemble import RandomForestClassifier\n",
    "accuracy=0\n",
    "precision=0\n",
    "recall=0\n",
    "f_score=0\n",
    "for train_index, test_index in kf10.split(X):\n",
    "    print(\"TRAIN:\", train_index, \"TEST:\", test_index)\n",
    "    X_train, X_test = x[train_index], x[test_index]\n",
    "    y_train, y_test = y[train_index], y[test_index]\n",
    "    print(X_train.shape, X_test.shape)\n",
    "    logistic=LogisticRegression()\n",
    "    logistic.fit(X_train,y_train)\n",
    "    pred=logistic.predict(X_test)\n",
    "    acc=accuracy_score(pred,y_test)\n",
    "    accuracy=accuracy+acc\n",
    "    confusion_matrix(pred,y_test)\n",
    "    a,b,c,d=precision_recall_fscore_support(y_test, pred, average='macro')\n",
    "    precision=precision+a\n",
    "    recall=recall+b\n",
    "    f_score=f_score+c\n",
    "print(accuracy/10)\n",
    "print(precision/10)\n",
    "print(recall/10)\n",
    "print(f_score/10)"
   ]
  },
  {
   "cell_type": "markdown",
   "metadata": {},
   "source": [
    "### 2 fold"
   ]
  },
  {
   "cell_type": "code",
   "execution_count": 30,
   "metadata": {},
   "outputs": [
    {
     "name": "stdout",
     "output_type": "stream",
     "text": [
      "TRAIN: [ 802494  802495  802496 ... 1604985 1604986 1604987] TEST: [     0      1      2 ... 802491 802492 802493]\n",
      "(802494, 7) (802494, 7)\n",
      "TRAIN: [     0      1      2 ... 802491 802492 802493] TEST: [ 802494  802495  802496 ... 1604985 1604986 1604987]\n",
      "(802494, 7) (802494, 7)\n",
      "0.16957572268453097\n",
      "0.5406415430255442\n",
      "0.5469856657561023\n",
      "0.1690629181503984\n"
     ]
    }
   ],
   "source": [
    "from sklearn.ensemble import RandomForestClassifier\n",
    "accuracy=0\n",
    "precision=0\n",
    "recall=0\n",
    "f_score=0\n",
    "for train_index, test_index in kf2.split(X):\n",
    "    print(\"TRAIN:\", train_index, \"TEST:\", test_index)\n",
    "    X_train, X_test = x[train_index], x[test_index]\n",
    "    y_train, y_test = y[train_index], y[test_index]\n",
    "    print(X_train.shape, X_test.shape)\n",
    "    logistic=LogisticRegression()\n",
    "    logistic.fit(X_train,y_train)\n",
    "    pred=logistic.predict(X_test)\n",
    "    acc=accuracy_score(pred,y_test)\n",
    "    accuracy=accuracy+acc\n",
    "    confusion_matrix(pred,y_test)\n",
    "    a,b,c,d=precision_recall_fscore_support(y_test, pred, average='macro')\n",
    "    precision=precision+a\n",
    "    recall=recall+b\n",
    "    f_score=f_score+c\n",
    "print(accuracy/2)\n",
    "print(precision/2)\n",
    "print(recall/2)\n",
    "print(f_score/2)"
   ]
  },
  {
   "cell_type": "markdown",
   "metadata": {},
   "source": [
    "### 3 fold"
   ]
  },
  {
   "cell_type": "code",
   "execution_count": 31,
   "metadata": {},
   "outputs": [
    {
     "name": "stdout",
     "output_type": "stream",
     "text": [
      "TRAIN: [ 534996  534997  534998 ... 1604985 1604986 1604987] TEST: [     0      1      2 ... 534993 534994 534995]\n",
      "(1069992, 7) (534996, 7)\n",
      "TRAIN: [      0       1       2 ... 1604985 1604986 1604987] TEST: [ 534996  534997  534998 ... 1069989 1069990 1069991]\n",
      "(1069992, 7) (534996, 7)\n",
      "TRAIN: [      0       1       2 ... 1069989 1069990 1069991] TEST: [1069992 1069993 1069994 ... 1604985 1604986 1604987]\n",
      "(1069992, 7) (534996, 7)\n",
      "0.39795936168993157\n",
      "0.5647191676799221\n",
      "0.46123993947261616\n",
      "0.36364877355535286\n"
     ]
    },
    {
     "name": "stderr",
     "output_type": "stream",
     "text": [
      "C:\\Anaconda3\\lib\\site-packages\\sklearn\\metrics\\_classification.py:1221: UndefinedMetricWarning: Recall and F-score are ill-defined and being set to 0.0 in labels with no true samples. Use `zero_division` parameter to control this behavior.\n",
      "  _warn_prf(average, modifier, msg_start, len(result))\n"
     ]
    }
   ],
   "source": [
    "from sklearn.ensemble import RandomForestClassifier\n",
    "accuracy=0\n",
    "precision=0\n",
    "recall=0\n",
    "f_score=0\n",
    "for train_index, test_index in kf3.split(X):\n",
    "    print(\"TRAIN:\", train_index, \"TEST:\", test_index)\n",
    "    X_train, X_test = x[train_index], x[test_index]\n",
    "    y_train, y_test = y[train_index], y[test_index]\n",
    "    print(X_train.shape, X_test.shape)\n",
    "    logistic=LogisticRegression()\n",
    "    logistic.fit(X_train,y_train)\n",
    "    pred=logistic.predict(X_test)\n",
    "    acc=accuracy_score(pred,y_test)\n",
    "    accuracy=accuracy+acc\n",
    "    confusion_matrix(pred,y_test)\n",
    "    a,b,c,d=precision_recall_fscore_support(y_test, pred, average='macro')\n",
    "    precision=precision+a\n",
    "    recall=recall+b\n",
    "    f_score=f_score+c\n",
    "print(accuracy/3)\n",
    "print(precision/3)\n",
    "print(recall/3)\n",
    "print(f_score/3)"
   ]
  },
  {
   "cell_type": "markdown",
   "metadata": {},
   "source": [
    "### 5 fold"
   ]
  },
  {
   "cell_type": "code",
   "execution_count": 32,
   "metadata": {},
   "outputs": [
    {
     "name": "stdout",
     "output_type": "stream",
     "text": [
      "TRAIN: [ 320998  320999  321000 ... 1604985 1604986 1604987] TEST: [     0      1      2 ... 320995 320996 320997]\n",
      "(1283990, 7) (320998, 7)\n",
      "TRAIN: [      0       1       2 ... 1604985 1604986 1604987] TEST: [320998 320999 321000 ... 641993 641994 641995]\n",
      "(1283990, 7) (320998, 7)\n",
      "TRAIN: [      0       1       2 ... 1604985 1604986 1604987] TEST: [641996 641997 641998 ... 962991 962992 962993]\n",
      "(1283990, 7) (320998, 7)\n",
      "TRAIN: [      0       1       2 ... 1604985 1604986 1604987] TEST: [ 962994  962995  962996 ... 1283988 1283989 1283990]\n",
      "(1283991, 7) (320997, 7)\n"
     ]
    },
    {
     "name": "stderr",
     "output_type": "stream",
     "text": [
      "C:\\Anaconda3\\lib\\site-packages\\sklearn\\metrics\\_classification.py:1221: UndefinedMetricWarning: Recall and F-score are ill-defined and being set to 0.0 in labels with no true samples. Use `zero_division` parameter to control this behavior.\n",
      "  _warn_prf(average, modifier, msg_start, len(result))\n"
     ]
    },
    {
     "name": "stdout",
     "output_type": "stream",
     "text": [
      "TRAIN: [      0       1       2 ... 1283988 1283989 1283990] TEST: [1283991 1283992 1283993 ... 1604985 1604986 1604987]\n",
      "(1283991, 7) (320997, 7)\n",
      "0.5367884672787459\n",
      "0.5640702381218644\n",
      "0.5058745473833121\n",
      "0.42453806603452654\n"
     ]
    },
    {
     "name": "stderr",
     "output_type": "stream",
     "text": [
      "C:\\Anaconda3\\lib\\site-packages\\sklearn\\metrics\\_classification.py:1221: UndefinedMetricWarning: Recall and F-score are ill-defined and being set to 0.0 in labels with no true samples. Use `zero_division` parameter to control this behavior.\n",
      "  _warn_prf(average, modifier, msg_start, len(result))\n"
     ]
    }
   ],
   "source": [
    "from sklearn.ensemble import RandomForestClassifier\n",
    "accuracy=0\n",
    "precision=0\n",
    "recall=0\n",
    "f_score=0\n",
    "for train_index, test_index in kf5.split(X):\n",
    "    print(\"TRAIN:\", train_index, \"TEST:\", test_index)\n",
    "    X_train, X_test = x[train_index], x[test_index]\n",
    "    y_train, y_test = y[train_index], y[test_index]\n",
    "    print(X_train.shape, X_test.shape)\n",
    "    logistic=LogisticRegression()\n",
    "    logistic.fit(X_train,y_train)\n",
    "    pred=logistic.predict(X_test)\n",
    "    acc=accuracy_score(pred,y_test)\n",
    "    accuracy=accuracy+acc\n",
    "    confusion_matrix(pred,y_test)\n",
    "    a,b,c,d=precision_recall_fscore_support(y_test, pred, average='macro')\n",
    "    precision=precision+a\n",
    "    recall=recall+b\n",
    "    f_score=f_score+c\n",
    "print(accuracy/5)\n",
    "print(precision/5)\n",
    "print(recall/5)\n",
    "print(f_score/5)"
   ]
  },
  {
   "cell_type": "code",
   "execution_count": null,
   "metadata": {},
   "outputs": [],
   "source": []
  },
  {
   "cell_type": "code",
   "execution_count": null,
   "metadata": {},
   "outputs": [],
   "source": []
  }
 ],
 "metadata": {
  "kernelspec": {
   "display_name": "Python 3",
   "language": "python",
   "name": "python3"
  },
  "language_info": {
   "codemirror_mode": {
    "name": "ipython",
    "version": 3
   },
   "file_extension": ".py",
   "mimetype": "text/x-python",
   "name": "python",
   "nbconvert_exporter": "python",
   "pygments_lexer": "ipython3",
   "version": "3.6.5"
  }
 },
 "nbformat": 4,
 "nbformat_minor": 2
}
